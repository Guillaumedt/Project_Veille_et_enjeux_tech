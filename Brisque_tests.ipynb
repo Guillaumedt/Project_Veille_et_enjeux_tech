{
 "cells": [
  {
   "cell_type": "markdown",
   "metadata": {},
   "source": [
    "## Brisque Tests"
   ]
  },
  {
   "cell_type": "code",
   "execution_count": 34,
   "metadata": {},
   "outputs": [],
   "source": [
    "from brisque import brisque as br\n",
    "from matplotlib import image\n",
    "from numpy import asarray"
   ]
  },
  {
   "cell_type": "markdown",
   "metadata": {},
   "source": [
    "Script of our first image : \"a beautiful woman standing atop a mountain range with a breezy view\""
   ]
  },
  {
   "cell_type": "code",
   "execution_count": 35,
   "metadata": {},
   "outputs": [],
   "source": [
    "# on évalue la qualité de l'image\n",
    "def evaluate(path, obj=br.BRISQUE()):\n",
    "    img = image.imread(path)\n",
    "    img = asarray(img)\n",
    "    score = obj.score(img)\n",
    "    print(\"Score de l'image : \", score)\n",
    "    return score"
   ]
  },
  {
   "cell_type": "markdown",
   "metadata": {},
   "source": [
    "On utilise une vraie photo comme image de référence pour tester le modèle brisque"
   ]
  },
  {
   "cell_type": "code",
   "execution_count": 46,
   "metadata": {},
   "outputs": [
    {
     "name": "stdout",
     "output_type": "stream",
     "text": [
      "Score de l'image :  -0.21493993830020486\n"
     ]
    }
   ],
   "source": [
    "photo = evaluate(\"photo_woman_mountain.jpg\")"
   ]
  },
  {
   "cell_type": "markdown",
   "metadata": {},
   "source": [
    "On peut vérifier qu'un bon score selon brisque correspond à un score proche de 0"
   ]
  },
  {
   "cell_type": "markdown",
   "metadata": {},
   "source": [
    "Tests des images générées par IA"
   ]
  },
  {
   "cell_type": "code",
   "execution_count": 40,
   "metadata": {},
   "outputs": [
    {
     "name": "stdout",
     "output_type": "stream",
     "text": [
      "Score de l'image :  -22.798982469921185\n"
     ]
    }
   ],
   "source": [
    "# on évalue \"deepai_woman_mountain.jpg\"\n",
    "deepai1 = evaluate(\"deepai_woman_mountain.jpg\")"
   ]
  },
  {
   "cell_type": "code",
   "execution_count": 41,
   "metadata": {},
   "outputs": [
    {
     "name": "stdout",
     "output_type": "stream",
     "text": [
      "Score de l'image :  2.341239028797389\n"
     ]
    }
   ],
   "source": [
    "deepai2 = evaluate(\"deepai_woman_mountain_enhanced.jpg\")"
   ]
  },
  {
   "cell_type": "code",
   "execution_count": 44,
   "metadata": {},
   "outputs": [
    {
     "name": "stdout",
     "output_type": "stream",
     "text": [
      "Score de l'image :  55.14809541345548\n"
     ]
    }
   ],
   "source": [
    "craiyon = evaluate(\"craiyon_woman_mountain.png\")"
   ]
  },
  {
   "cell_type": "code",
   "execution_count": 45,
   "metadata": {},
   "outputs": [
    {
     "name": "stdout",
     "output_type": "stream",
     "text": [
      "Score de l'image :  26.23457566369038\n"
     ]
    }
   ],
   "source": [
    "canva = evaluate(\"design_canva_woman_mountain.png\")"
   ]
  }
 ],
 "metadata": {
  "kernelspec": {
   "display_name": "Python 3",
   "language": "python",
   "name": "python3"
  },
  "language_info": {
   "codemirror_mode": {
    "name": "ipython",
    "version": 3
   },
   "file_extension": ".py",
   "mimetype": "text/x-python",
   "name": "python",
   "nbconvert_exporter": "python",
   "pygments_lexer": "ipython3",
   "version": "3.11.7"
  }
 },
 "nbformat": 4,
 "nbformat_minor": 2
}

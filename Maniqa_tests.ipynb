{
 "cells": [
  {
   "cell_type": "markdown",
   "metadata": {},
   "source": [
    "source : https://github.com/IIGROUP/MANIQA/blob/master/models/maniqa.py"
   ]
  },
  {
   "cell_type": "code",
   "execution_count": null,
   "metadata": {},
   "outputs": [],
   "source": [
    "import torch\n",
    "from torchvision import transforms\n",
    "from PIL import Image\n",
    "\n",
    "# Charger et prétraiter l'image\n",
    "path = \"chemin_vers_votre_image.jpg\"\n",
    "img = Image.open(path).convert('RGB')\n",
    "transform = transforms.Compose([\n",
    "    transforms.Resize((224, 224)),\n",
    "    transforms.ToTensor(),\n",
    "])\n",
    "\n",
    "img = transform(img)\n",
    "img = img.unsqueeze(0)  # Ajouter une dimension de lot (batch dimension)\n",
    "\n",
    "# Charger le modèle\n",
    "model = MANIQA()\n",
    "model = model.cuda()  # Si le modèle est sur GPU\n",
    "\n",
    "# Mettre le modèle en mode évaluation\n",
    "model.eval()\n",
    "\n",
    "# Passer l'image à travers le modèle\n",
    "with torch.no_grad():\n",
    "    img = img.cuda()  # Si l'image est sur GPU\n",
    "    output = model(img)\n",
    "\n",
    "# Le score pour l'image donnée\n",
    "print(\"Score:\", output.item())\n"
   ]
  }
 ],
 "metadata": {
  "language_info": {
   "name": "python"
  }
 },
 "nbformat": 4,
 "nbformat_minor": 2
}
